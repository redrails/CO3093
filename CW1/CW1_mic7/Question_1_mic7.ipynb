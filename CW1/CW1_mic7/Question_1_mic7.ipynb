{
 "cells": [
  {
   "cell_type": "markdown",
   "metadata": {},
   "source": [
    "## Question 1 - Predicting the winner"
   ]
  },
  {
   "cell_type": "markdown",
   "metadata": {},
   "source": [
    "Firstly we need to import some modules to help us along the way."
   ]
  },
  {
   "cell_type": "code",
   "execution_count": 16,
   "metadata": {},
   "outputs": [],
   "source": [
    "import matplotlib.pyplot as plt\n",
    "import pandas as pd\n",
    "import numpy as np\n",
    "from scipy.stats import poisson, skellam\n",
    "import matplotlib.mlab as mlab"
   ]
  },
  {
   "cell_type": "markdown",
   "metadata": {},
   "source": [
    "Then we want to read the data file into our program."
   ]
  },
  {
   "cell_type": "code",
   "execution_count": 17,
   "metadata": {},
   "outputs": [],
   "source": [
    "data = pd.read_csv(\"resources/PremierLeague1718.csv\") # Read the data set file"
   ]
  },
  {
   "cell_type": "markdown",
   "metadata": {},
   "source": [
    "The data file consists of empty columns and rows which we want to clean up so that we are working with _clean_ data. To do this we can use the below function."
   ]
  },
  {
   "cell_type": "code",
   "execution_count": 18,
   "metadata": {},
   "outputs": [],
   "source": [
    "def clean(dataframe):\n",
    "    assert isinstance(dataframe, pd.DataFrame), 'Argument of wrong type!'\n",
    "    return dataframe.dropna(axis=1, how='all')"
   ]
  },
  {
   "cell_type": "markdown",
   "metadata": {},
   "source": [
    "And then we can apply this to our data."
   ]
  },
  {
   "cell_type": "code",
   "execution_count": 19,
   "metadata": {},
   "outputs": [],
   "source": [
    "data = clean(data) # Clean the data up to remove empty and NaN cols"
   ]
  },
  {
   "cell_type": "markdown",
   "metadata": {},
   "source": [
    "Because the data file consists of a lot of columns, some of them are irrelevant to us, the below function can help eliminate these columns, to do this we can specify only the columns we want to keep as a list of column names."
   ]
  },
  {
   "cell_type": "code",
   "execution_count": 20,
   "metadata": {},
   "outputs": [],
   "source": [
    "def filterCols(dataframe, cols):\n",
    "    assert isinstance(dataframe, pd.DataFrame), 'Argument of wrong type!'\n",
    "    assert isinstance(cols, list), 'Argument of wrong type!'\n",
    "    return dataframe[cols]"
   ]
  },
  {
   "cell_type": "markdown",
   "metadata": {},
   "source": [
    "We can then use this function to filter our data."
   ]
  },
  {
   "cell_type": "code",
   "execution_count": 21,
   "metadata": {
    "scrolled": true
   },
   "outputs": [],
   "source": [
    "colsToKeep = [\"Date\", \"HomeTeam\", \"AwayTeam\", \"FTHG\", \"FTAG\", \"HS\", \"AS\", \"HST\", \"AST\", \"FTR\"] # List of cols we want to keep\n",
    "data = filterCols(data, colsToKeep) # Filter relevant cols"
   ]
  },
  {
   "cell_type": "markdown",
   "metadata": {},
   "source": [
    "To get an idea of how the data looks like, we can use the `describe` function to give us various information. (This is helpful to answer Question 1, part 1.)"
   ]
  },
  {
   "cell_type": "code",
   "execution_count": 22,
   "metadata": {},
   "outputs": [
    {
     "name": "stdout",
     "output_type": "stream",
     "text": [
      "Description:\n",
      "             FTHG        FTAG          HS          AS         HST         AST\n",
      "count  240.000000  240.000000  240.000000  240.000000  240.000000  240.000000\n",
      "mean     1.491667    1.183333   13.666667   11.141667    4.554167    3.791667\n",
      "std      1.344419    1.250830    6.055301    5.110160    2.781661    2.385086\n",
      "min      0.000000    0.000000    2.000000    1.000000    0.000000    0.000000\n",
      "25%      0.000000    0.000000    9.000000    7.000000    2.750000    2.000000\n",
      "50%      1.000000    1.000000   13.000000   10.000000    4.000000    3.500000\n",
      "75%      2.000000    2.000000   17.000000   14.000000    6.000000    5.000000\n",
      "max      7.000000    6.000000   35.000000   30.000000   15.000000   14.000000\n"
     ]
    }
   ],
   "source": [
    "print(\"Description:\")\n",
    "print(data.describe())"
   ]
  },
  {
   "cell_type": "markdown",
   "metadata": {},
   "source": [
    "Furthermore, we can also group the data in a way so that we can see an outlook of how many goals were scored and conceded by each team over the whole league."
   ]
  },
  {
   "cell_type": "code",
   "execution_count": 23,
   "metadata": {},
   "outputs": [
    {
     "name": "stdout",
     "output_type": "stream",
     "text": [
      "Data on wins/losses\n",
      "              Team  Wins at home  Wins away  Losses at home  Losses away\n",
      "0          Arsenal             9          3               1            5\n",
      "1      Bournemouth             4          2               5            6\n",
      "2         Brighton             3          2               3            8\n",
      "3          Burnley             5          4               5            3\n",
      "4          Chelsea             8          7               2            2\n",
      "5   Crystal Palace             4          2               4            7\n",
      "6          Everton             6          1               4            6\n",
      "7     Huddersfield             4          2               4            8\n",
      "8        Leicester             6          3               4            4\n",
      "9        Liverpool             7          6               0            3\n",
      "10        Man City            11         10               0            1\n",
      "11      Man United             9          7               1            2\n",
      "12       Newcastle             3          3               6            7\n",
      "13     Southampton             3          1               5            5\n",
      "14           Stoke             5          1               5            8\n",
      "15         Swansea             3          2               7            7\n",
      "16       Tottenham             7          6               1            4\n",
      "17         Watford             3          4               5            7\n",
      "18       West Brom             2          1               3            7\n",
      "19        West Ham             4          2               4            6\n",
      "Averages of the wins/losses\n",
      "       Wins at home  Wins away  Losses at home  Losses away\n",
      "count     20.000000  20.000000       20.000000    20.000000\n",
      "mean       5.300000   3.450000        3.450000     5.300000\n",
      "std        2.494204   2.502104        2.012461     2.202869\n",
      "min        2.000000   1.000000        0.000000     1.000000\n",
      "25%        3.000000   2.000000        1.750000     3.750000\n",
      "50%        4.500000   2.500000        4.000000     6.000000\n",
      "75%        7.000000   4.500000        5.000000     7.000000\n",
      "max       11.000000  10.000000        7.000000     8.000000\n"
     ]
    }
   ],
   "source": [
    "def renameCols(df, colsdict):\n",
    "    return df.reset_index().rename(columns=colsdict)\n",
    "\n",
    "def creategroups():\n",
    "    groups = [0,0,0,0]\n",
    "    groups[0] = renameCols(data.groupby(\"HomeTeam\")[\"FTR\"].apply(lambda x: x[x == 'H'].count()), {\"HomeTeam\": \"Team\", \"FTR\": \"Wins at home\"})\n",
    "    groups[1] = renameCols(data.groupby(\"AwayTeam\")[\"FTR\"].apply(lambda x: x[x == 'A'].count()), {\"AwayTeam\": \"Team\", \"FTR\": \"Wins away\"})\n",
    "    groups[2] = renameCols(data.groupby(\"HomeTeam\")[\"FTR\"].apply(lambda x: x[x == 'A'].count()), {\"HomeTeam\": \"Team\", \"FTR\": \"Losses at home\"})\n",
    "    groups[3] = renameCols(data.groupby(\"AwayTeam\")[\"FTR\"].apply(lambda x: x[x == 'H'].count()), {\"AwayTeam\": \"Team\", \"FTR\": \"Losses away\"})\n",
    "\n",
    "    return groups\n",
    "\n",
    "groups = creategroups()\n",
    "merged = groups[0].merge(groups[1], on=\"Team\").merge(groups[2], on=\"Team\").merge(groups[3], on=\"Team\")\n",
    "\n",
    "print(\"Data on wins/losses\")\n",
    "print(merged)\n",
    "\n",
    "print(\"Averages of the wins/losses\")\n",
    "print(merged.describe())"
   ]
  },
  {
   "cell_type": "markdown",
   "metadata": {},
   "source": [
    "We can create a data structure containing information about the teams we care about. In this instance Manchester United and Manchester City. This can help us answer Question 1 part 2."
   ]
  },
  {
   "cell_type": "code",
   "execution_count": 24,
   "metadata": {},
   "outputs": [
    {
     "name": "stdout",
     "output_type": "stream",
     "text": [
      "Man United Home:\n",
      "            FTHG       FTAG         HS         AS        HST        AST\n",
      "count  12.000000  12.000000  12.000000  12.000000  12.000000  12.000000\n",
      "mean    2.250000   0.416667  16.250000   9.666667   5.500000   3.666667\n",
      "std     1.484771   0.792961   5.047502   3.420083   2.110579   2.059715\n",
      "min     0.000000   0.000000   8.000000   3.000000   2.000000   1.000000\n",
      "25%     1.000000   0.000000  14.000000   7.750000   3.750000   2.000000\n",
      "50%     2.000000   0.000000  16.000000  10.000000   6.000000   3.500000\n",
      "75%     4.000000   0.250000  20.500000  12.250000   7.000000   5.000000\n",
      "max     4.000000   2.000000  23.000000  14.000000   9.000000   7.000000\n",
      "\n",
      "Man City Home\n",
      "            FTHG       FTAG         HS         AS        HST        AST\n",
      "count  12.000000  12.000000  12.000000  12.000000  12.000000  12.000000\n",
      "mean    3.500000   0.750000  18.583333   6.500000   8.333333   2.166667\n",
      "std     1.623688   0.621582   5.177896   1.381699   2.386833   1.466804\n",
      "min     1.000000   0.000000   9.000000   5.000000   5.000000   0.000000\n",
      "25%     2.750000   0.000000  14.750000   5.750000   6.750000   1.000000\n",
      "50%     3.000000   1.000000  19.500000   6.500000   8.500000   2.000000\n",
      "75%     4.250000   1.000000  21.750000   7.000000  10.250000   3.250000\n",
      "max     7.000000   2.000000  26.000000  10.000000  12.000000   4.000000\n",
      "-------------\n",
      "Man United Away:\n",
      "            FTHG       FTAG        HS         AS        HST        AST\n",
      "count  12.000000  12.000000  12.00000  12.000000  12.000000  12.000000\n",
      "mean    0.916667   1.833333  13.75000  12.666667   4.500000   4.500000\n",
      "std     0.900337   1.337116   7.28791   5.087120   3.919647   2.430862\n",
      "min     0.000000   0.000000   5.00000   6.000000   0.000000   1.000000\n",
      "25%     0.000000   1.000000  10.75000   8.750000   2.750000   2.750000\n",
      "50%     1.000000   2.000000  12.00000  11.000000   3.500000   4.000000\n",
      "75%     2.000000   2.250000  15.00000  17.250000   5.000000   6.250000\n",
      "max     2.000000   4.000000  33.00000  21.000000  15.000000   8.000000\n",
      "\n",
      "Man City Away\n",
      "            FTHG       FTAG         HS         AS        HST        AST\n",
      "count  12.000000  12.000000  12.000000  12.000000  12.000000  12.000000\n",
      "mean    0.750000   2.333333   7.083333  17.000000   2.500000   6.083333\n",
      "std     1.215431   1.556998   3.579191   5.063236   2.067058   2.234373\n",
      "min     0.000000   0.000000   2.000000  11.000000   0.000000   4.000000\n",
      "25%     0.000000   1.750000   5.500000  14.000000   1.000000   4.000000\n",
      "50%     0.000000   2.000000   6.500000  15.000000   2.000000   5.500000\n",
      "75%     1.000000   3.000000   8.250000  19.750000   3.250000   7.250000\n",
      "max     4.000000   6.000000  16.000000  28.000000   7.000000  10.000000\n"
     ]
    }
   ],
   "source": [
    "rteams = [\"Man United\", \"Man City\"] # Teams we care about\n",
    "\n",
    "teams = {\"ManUnitedHome\": \"\", \"ManCityHome\": \"\", \"ManUnitedAway\": \"\", \"ManCityAway\": \"\"} # A dict to contain relevant team dataframes\n",
    "\n",
    "teams[\"ManUnitedHome\"] = data.loc[data[\"HomeTeam\"] == \"Man United\"]\n",
    "teams[\"ManUnitedAway\"] = data.loc[data[\"AwayTeam\"] == \"Man United\"]\n",
    "teams[\"ManCityHome\"] = data.loc[data[\"HomeTeam\"] == \"Man City\"]\n",
    "teams[\"ManCityAway\"] = data.loc[data[\"AwayTeam\"] == \"Man City\"]\n",
    "\n",
    "def mergeteamdata():\n",
    "    df = teams[\"ManUnitedHome\"].append(teams[\"ManUnitedAway\"])\n",
    "    df = df.append((teams[\"ManCityHome\"].append(teams[\"ManCityAway\"])))\n",
    "    return df\n",
    "\n",
    "print(\"Man United Home:\")\n",
    "print(teams[\"ManUnitedHome\"].describe())\n",
    "print(\"\\nMan City Home\")\n",
    "print(teams[\"ManCityHome\"].describe())\n",
    "print(\"-------------\")\n",
    "print(\"Man United Away:\")\n",
    "print(teams[\"ManUnitedAway\"].describe())\n",
    "print(\"\\nMan City Away\")\n",
    "print(teams[\"ManCityAway\"].describe())"
   ]
  },
  {
   "cell_type": "markdown",
   "metadata": {},
   "source": [
    "To get a better visualisation of how these teams stack up against eachother we can plot these values onto a graph t compare Manchester United's home defence against Manchester City's away offence and Manchester City's home defence against Manchester United's away offence."
   ]
  },
  {
   "cell_type": "code",
   "execution_count": 25,
   "metadata": {},
   "outputs": [],
   "source": [
    "def plotstats(stat):\n",
    "    fig = plt.figure(1)\n",
    "    fig.set_size_inches(12, 8)\n",
    "    for i in stat:\n",
    "        plt.subplot(i.plots[0])\n",
    "        i.df.boxplot(i.col, vert=False)\n",
    "        plt.subplot(i.plots[1])\n",
    "        temp = i.df[i.col].as_matrix()\n",
    "        plt.hist(temp, bins=30, alpha=0.7, label=i.glabel)\n",
    "        plt.xlabel(i.xlabel)\n",
    "        plt.ylabel(i.ylabel)\n",
    "        plt.legend()\n",
    "    plt.show()"
   ]
  },
  {
   "cell_type": "markdown",
   "metadata": {},
   "source": [
    "We can create a simple object to use with the above function because it gives us a dynamic way of displaying information for different teams. "
   ]
  },
  {
   "cell_type": "code",
   "execution_count": 26,
   "metadata": {},
   "outputs": [],
   "source": [
    "class PlotObject:\n",
    "    def __init__(self, df, col, glabel, xlabel, ylabel, plots):\n",
    "        self.df     = df\n",
    "        self.col    = col\n",
    "        self.glabel = glabel\n",
    "        self.xlabel = xlabel\n",
    "        self.ylabel = ylabel\n",
    "        self.plots  = plots"
   ]
  },
  {
   "cell_type": "markdown",
   "metadata": {},
   "source": [
    "We can then plot these teams and see how the data looks like. This will help answer Question 1 part 3. "
   ]
  },
  {
   "cell_type": "markdown",
   "metadata": {},
   "source": [
    "### Manchester United's home defence vs Manchester City's away offence"
   ]
  },
  {
   "cell_type": "code",
   "execution_count": 27,
   "metadata": {
    "scrolled": true
   },
   "outputs": [
    {
     "data": {
      "image/png": "[encoded data removed]",
      "text/plain": [
       "<matplotlib.figure.Figure at 0x7fba0f1f76d8>"
      ]
     },
     "metadata": {},
     "output_type": "display_data"
    }
   ],
   "source": [
    "obj = []\n",
    "obj.append(PlotObject(teams[\"ManUnitedHome\"], \"FTAG\", \"Man Utd Home\", \"Number of Matches\", \"Number of goals conceded\", [221,223]))\n",
    "obj.append(PlotObject(teams[\"ManCityAway\"], \"FTAG\", \"Man City Away\", \"Number of Matches\", \"Number of goals scored\", [222,224]))\n",
    "plotstats(obj)"
   ]
  },
  {
   "cell_type": "markdown",
   "metadata": {},
   "source": [
    "### Manchester City's home defence vs Manchester United's away offence"
   ]
  },
  {
   "cell_type": "code",
   "execution_count": 28,
   "metadata": {},
   "outputs": [
    {
     "data": {
      "image/png": "[encoded data removed]",
      "text/plain": [
       "<matplotlib.figure.Figure at 0x7fba0f04a8d0>"
      ]
     },
     "metadata": {},
     "output_type": "display_data"
    }
   ],
   "source": [
    "obj = []\n",
    "obj.append(PlotObject(teams[\"ManCityHome\"], \"FTAG\", \"Man City Home\", \"Number of Matches\", \"Number of goals conceded\", [221, 223]))\n",
    "obj.append(PlotObject(teams[\"ManUnitedAway\"], \"FTAG\", \"Man Utd Away\", \"Number of Matches\", \"Number of goals scored\", [222, 224]))\n",
    "plotstats(obj)"
   ]
  },
  {
   "cell_type": "code",
   "execution_count": null,
   "metadata": {},
   "outputs": [],
   "source": []
  }
 ],
 "metadata": {
  "kernelspec": {
   "display_name": "Python 3",
   "language": "python",
   "name": "python3"
  },
  "language_info": {
   "codemirror_mode": {
    "name": "ipython",
    "version": 3
   },
   "file_extension": ".py",
   "mimetype": "text/x-python",
   "name": "python",
   "nbconvert_exporter": "python",
   "pygments_lexer": "ipython3",
   "version": "3.5.2"
  }
 },
 "nbformat": 4,
 "nbformat_minor": 2
}
