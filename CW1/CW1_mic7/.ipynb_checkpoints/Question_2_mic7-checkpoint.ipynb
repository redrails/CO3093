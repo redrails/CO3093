{
 "cells": [
  {
   "cell_type": "markdown",
   "metadata": {},
   "source": [
    "## Question 2 - Predicting stock prices"
   ]
  },
  {
   "cell_type": "markdown",
   "metadata": {},
   "source": [
    "Firstly we need to import some modules to help us along the way."
   ]
  },
  {
   "cell_type": "code",
   "execution_count": 72,
   "metadata": {},
   "outputs": [],
   "source": [
    "import matplotlib.pyplot as plt\n",
    "import pandas as pd\n",
    "import numpy as np\n",
    "from scipy.stats import poisson, skellam\n",
    "import matplotlib.mlab as mlab\n",
    "import math\n",
    "from collections import Counter\n",
    "import pylab as plb\n",
    "from sklearn import svm, feature_selection, linear_model\n",
    "from sklearn.metrics import mean_squared_error\n",
    "from sklearn.model_selection import train_test_split"
   ]
  },
  {
   "cell_type": "markdown",
   "metadata": {},
   "source": [
    "Then we want to read the data file into our program."
   ]
  },
  {
   "cell_type": "code",
   "execution_count": 73,
   "metadata": {},
   "outputs": [],
   "source": [
    "data = pd.read_csv(\"resources/AAPL.csv\") # Read the data set file"
   ]
  },
  {
   "cell_type": "markdown",
   "metadata": {},
   "source": [
    "The data file consists of empty columns and rows which we want to clean up so that we are working with _clean_ data. To do this we can use the below function."
   ]
  },
  {
   "cell_type": "code",
   "execution_count": 74,
   "metadata": {},
   "outputs": [],
   "source": [
    "def clean(dataframe):\n",
    "    assert isinstance(dataframe, pd.DataFrame), 'Argument of wrong type!'\n",
    "    return dataframe.dropna() # This will drop any rows that contain NaN values. Important for training."
   ]
  },
  {
   "cell_type": "code",
   "execution_count": 75,
   "metadata": {},
   "outputs": [],
   "source": [
    "data = clean(data)"
   ]
  },
  {
   "cell_type": "markdown",
   "metadata": {},
   "source": [
    "Creating a timeseries graph"
   ]
  },
  {
   "cell_type": "code",
   "execution_count": 76,
   "metadata": {
    "scrolled": true
   },
   "outputs": [],
   "source": [
    "data[\"Date\"] = pd.to_datetime(data[\"Date\"])\n",
    "data.index = data[\"Date\"]\n",
    "del data[\"Date\"]"
   ]
  },
  {
   "cell_type": "code",
   "execution_count": 77,
   "metadata": {},
   "outputs": [
    {
     "data": {
      "image/png": "[encoded data removed]",
      "text/plain": [
       "<matplotlib.figure.Figure at 0x7f161d9d8828>"
      ]
     },
     "metadata": {},
     "output_type": "display_data"
    }
   ],
   "source": [
    "def timeseries(df):\n",
    "    ts = pd.Series(df[\"Adj Close\"])\n",
    "    #ts = ts.cumsum()\n",
    "    fig = plt.figure()\n",
    "    plt.xlabel(\"Date\")\n",
    "    plt.ylabel(\"Adjusted Close Price\")\n",
    "    fig.set_size_inches(12,8)\n",
    "    ts.plot()\n",
    "    plt.show()\n",
    "timeseries(data)"
   ]
  },
  {
   "cell_type": "code",
   "execution_count": 79,
   "metadata": {},
   "outputs": [
    {
     "name": "stdout",
     "output_type": "stream",
     "text": [
      "Date\n",
      "1980-12-12 00:00:00                                             0.420087\n",
      "1980-12-15 00:00:00                                             0.398169\n",
      "1980-12-16 00:00:00                                             0.368946\n",
      "1980-12-17 00:00:00                                             0.378078\n",
      "1980-12-18 00:00:00                                             0.389037\n",
      "1980-12-19 00:00:00                                             0.412781\n",
      "1980-12-22 00:00:00                                             0.432872\n",
      "1980-12-23 00:00:00                                             0.451137\n",
      "1980-12-24 00:00:00                                             0.474881\n",
      "1980-12-26 00:00:00                                             0.518716\n",
      "1980-12-29 00:00:00                                             0.526022\n",
      "1980-12-30 00:00:00                                             0.513237\n",
      "1980-12-31 00:00:00                                             0.498625\n",
      "1981-01-02 00:00:00                                             0.504104\n",
      "1981-01-05 00:00:00                                             0.493146\n",
      "1981-01-06 00:00:00                                             0.471228\n",
      "1981-01-07 00:00:00                                             0.451137\n",
      "1981-01-08 00:00:00                                             0.442005\n",
      "1981-01-09 00:00:00                                             0.465749\n",
      "1981-01-12 00:00:00                                             0.462096\n",
      "1981-01-13 00:00:00                                             0.445658\n",
      "1981-01-14 00:00:00                                             0.447484\n",
      "1981-01-15 00:00:00                                             0.456616\n",
      "1981-01-16 00:00:00                                             0.452963\n",
      "1981-01-19 00:00:00                                              0.48036\n",
      "1981-01-20 00:00:00                                             0.465749\n",
      "1981-01-21 00:00:00                                             0.474881\n",
      "1981-01-22 00:00:00                                              0.48036\n",
      "1981-01-23 00:00:00                                             0.478534\n",
      "1981-01-26 00:00:00                                             0.471228\n",
      "                                             ...                        \n",
      "2017-12-14 00:00:00                                               172.22\n",
      "2017-12-15 00:00:00                                               173.97\n",
      "2017-12-18 00:00:00                                               176.42\n",
      "2017-12-19 00:00:00                                               174.54\n",
      "2017-12-20 00:00:00                                               174.35\n",
      "2017-12-21 00:00:00                                               175.01\n",
      "2017-12-22 00:00:00                                               175.01\n",
      "2017-12-26 00:00:00                                               170.57\n",
      "2017-12-27 00:00:00                                                170.6\n",
      "2017-12-28 00:00:00                                               171.08\n",
      "2017-12-29 00:00:00                                               169.23\n",
      "2018-01-02 00:00:00                                               172.26\n",
      "2018-01-03 00:00:00                                               172.23\n",
      "2018-01-04 00:00:00                                               173.03\n",
      "2018-01-05 00:00:00                                                  175\n",
      "2018-01-08 00:00:00                                               174.35\n",
      "2018-01-09 00:00:00                                               174.33\n",
      "2018-01-10 00:00:00                                               174.29\n",
      "2018-01-11 00:00:00                                               175.28\n",
      "2018-01-12 00:00:00                                               177.09\n",
      "2018-01-16 00:00:00                                               176.19\n",
      "2018-01-17 00:00:00                                                179.1\n",
      "2018-01-18 00:00:00                                               179.26\n",
      "2018-01-19 00:00:00                                               178.46\n",
      "2018-01-22 00:00:00                                                  177\n",
      "2018-01-23 00:00:00                                               177.04\n",
      "2018-01-24 00:00:00                                               174.22\n",
      "2018-01-25 00:00:00                                               171.11\n",
      "2018-01-26 00:00:00                                               171.51\n",
      "Output Close           Date\n",
      "1980-12-12      0.412781\n",
      "1980-12-15      ...\n",
      "Name: Adj Close, Length: 9362, dtype: object\n"
     ]
    }
   ],
   "source": [
    "# df = data.tail(50)\n",
    "# estimator = svm.SVR(kernel=\"linear\")\n",
    "# selector = feature_selection.RFE(estimator, 5, step=1)\n",
    "\n",
    "df = data.copy()\n",
    "df = df.tail(50)\n",
    "\n",
    "df1 = df[\"Adj Close\"]\n",
    "df1\n",
    "df1[\"Output\"] = df[\"Adj Close\"].shift(-5)\n",
    "\n",
    "\n",
    "# X = df1[\"Adj Close\"]\n",
    "# Y = df1[\"Output Close\"]\n",
    "\n",
    "\n",
    "print(dfs)\n",
    "\n",
    "# trainX, testX, trainY, testY = train_test_split(X, Y, test_size=0.2)\n",
    "# lm = linear_model.LinearRegression()\n",
    "# lm.fit(trainX, trainY)\n",
    "# # Inspect the calculated model equations\n",
    "# print(\"Y-axis intercept {}\".format(lm.intercept_))\n",
    "# print(\"Weight coefficients:\")\n",
    "# for feat, coef in zip(select_features, lm.coef_):\n",
    "#     print(\" {:>20}: {}\".format(feat, coef))\n",
    "# # The value of R^2\n",
    "# print(\"R squared for the training data is {}\".format(lm.score(trainX, trainY)))\n",
    "# print(\"Score against test data: {}\".format(lm.score(testX, testY)))"
   ]
  },
  {
   "cell_type": "code",
   "execution_count": null,
   "metadata": {},
   "outputs": [],
   "source": []
  }
 ],
 "metadata": {
  "kernelspec": {
   "display_name": "Python 3",
   "language": "python",
   "name": "python3"
  },
  "language_info": {
   "codemirror_mode": {
    "name": "ipython",
    "version": 3
   },
   "file_extension": ".py",
   "mimetype": "text/x-python",
   "name": "python",
   "nbconvert_exporter": "python",
   "pygments_lexer": "ipython3",
   "version": "3.5.2"
  }
 },
 "nbformat": 4,
 "nbformat_minor": 2
}
